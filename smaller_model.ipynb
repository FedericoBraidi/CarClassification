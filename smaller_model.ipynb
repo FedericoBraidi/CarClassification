{
 "cells": [
  {
   "cell_type": "markdown",
   "metadata": {},
   "source": [
    "# Training with a smaller resnet"
   ]
  },
  {
   "cell_type": "code",
   "execution_count": 1,
   "metadata": {},
   "outputs": [],
   "source": [
    "import numpy as np\n",
    "import os\n",
    "import auxiliaries as aux\n",
    "import models as mdl\n",
    "import torch\n",
    "import torch.nn as nn\n",
    "from torchvision import datasets\n",
    "from torchvision import transforms\n",
    "from torch.utils.data import DataLoader, Subset\n",
    "#import IProgress\n",
    "from tqdm.notebook import tqdm\n",
    "import gc\n",
    "\n",
    "\n",
    "# Device configuration\n",
    "device = torch.device('cuda' if torch.cuda.is_available() else 'cpu')\n"
   ]
  },
  {
   "cell_type": "code",
   "execution_count": 2,
   "metadata": {},
   "outputs": [],
   "source": [
    "#qua manca la parte in cui carico i dati\n",
    "splits_folder='train_test_split'\n",
    "root_dir = os.path.join(os.getcwd(), '../CompCars/data/cropped_image')\n",
    "file_paths_train = os.path.join(os.getcwd(), f'../CompCars/data/{splits_folder}/classification/train.txt')"
   ]
  },
  {
   "cell_type": "code",
   "execution_count": 9,
   "metadata": {},
   "outputs": [],
   "source": [
    "num_epochs = 12\n",
    "batch_size = 8\n",
    "learning_rate = 1e-4\n",
    "classification_type = 'make'\n",
    "patience = 2"
   ]
  },
  {
   "cell_type": "code",
   "execution_count": 10,
   "metadata": {},
   "outputs": [],
   "source": [
    "#Create the Residual block\n",
    "class ResidualBlock(nn.Module):\n",
    "        def __init__(self, in_channels, out_channels, stride = 1, downsample = None):\n",
    "            super(ResidualBlock, self).__init__()\n",
    "            self.conv1 = nn.Sequential(\n",
    "                            nn.Conv2d(in_channels, out_channels, kernel_size = 3, stride = stride, padding = 1),\n",
    "                            nn.BatchNorm2d(out_channels),\n",
    "                            nn.ReLU())\n",
    "            self.conv2 = nn.Sequential(\n",
    "                            nn.Conv2d(out_channels, out_channels, kernel_size = 3, stride = 1, padding = 1),\n",
    "                            nn.BatchNorm2d(out_channels))\n",
    "            self.downsample = downsample\n",
    "            self.relu = nn.ReLU()\n",
    "            self.out_channels = out_channels\n",
    "\n",
    "        def forward(self, x):\n",
    "            residual = x\n",
    "            out = self.conv1(x)\n",
    "            out = self.conv2(out)\n",
    "            if self.downsample:\n",
    "                residual = self.downsample(x)\n",
    "            out += residual\n",
    "            out = self.relu(out)\n",
    "            return out"
   ]
  },
  {
   "cell_type": "code",
   "execution_count": 11,
   "metadata": {},
   "outputs": [],
   "source": [
    "class ResNet(nn.Module):\n",
    "        def __init__(self, block, layers, num_classes):\n",
    "            super(ResNet, self).__init__()\n",
    "            self.inplanes = 64\n",
    "            self.conv1 = nn.Sequential(\n",
    "                            nn.Conv2d(3, 64, kernel_size = 7, stride = 2, padding = 3),\n",
    "                            nn.BatchNorm2d(64),\n",
    "                            nn.ReLU())\n",
    "            self.maxpool = nn.MaxPool2d(kernel_size = 3, stride = 2, padding = 1)\n",
    "            self.layer0 = self._make_layer(block, 64, layers[0], stride = 1) #doppia convoluzione\n",
    "            self.layer1 = self._make_layer(block, 128, layers[1], stride = 2)\n",
    "            self.layer2 = self._make_layer(block, 256, layers[2], stride = 2)\n",
    "            self.layer3 = self._make_layer(block, 512, layers[3], stride = 2)\n",
    "            self.avgpool = nn.AvgPool2d(7, stride=1)\n",
    "            self.fc = nn.Linear(512, num_classes)\n",
    "\n",
    "#sarebbero 3 gli in e 64 gli out\n",
    "        \n",
    "        def _make_layer(self, block, planes, blocks, stride=1):\n",
    "            downsample = None\n",
    "            if stride != 1 or self.inplanes != planes:\n",
    "\n",
    "                downsample = nn.Sequential(\n",
    "                    nn.Conv2d(self.inplanes, planes, kernel_size=1, stride=stride),\n",
    "                    nn.BatchNorm2d(planes),\n",
    "                )\n",
    "            layers = []\n",
    "            layers.append(block(self.inplanes, planes, stride, downsample))\n",
    "            self.inplanes = planes\n",
    "            for i in range(1, blocks):\n",
    "                layers.append(block(self.inplanes, planes))\n",
    "\n",
    "            return nn.Sequential(*layers)\n",
    "\n",
    "        def forward(self, x):\n",
    "            x = self.conv1(x)\n",
    "            x = self.maxpool(x)\n",
    "            x = self.layer0(x)\n",
    "            x = self.layer1(x)\n",
    "            x = self.layer2(x)\n",
    "            x = self.layer3(x)\n",
    "\n",
    "            x = self.avgpool(x)\n",
    "            x = x.view(x.size(0), -1)\n",
    "            x = self.fc(x)\n",
    "\n",
    "            return x"
   ]
  },
  {
   "cell_type": "code",
   "execution_count": 12,
   "metadata": {},
   "outputs": [],
   "source": [
    "# Set number of classes\n",
    "if classification_type == 'make':\n",
    "    num_classes = 163\n",
    "elif classification_type == 'model':\n",
    "    num_classes = 1712\n",
    "else:\n",
    "    print('Wrong classification type') \n",
    "#scegliere il numero di blocchi -> inizio con la standard per fare due blocchi per livello\n",
    "model = mdl.MiniResNet(mdl.ResidualBlock,[2,2,2,2], num_classes).to(device)\n",
    "#scegliere la loss e l'optimizer\n",
    "criterion = nn.CrossEntropyLoss()\n",
    "optimizer = torch.optim.Adam(params = model.parameters(), lr=learning_rate,weight_decay=0.001)"
   ]
  },
  {
   "cell_type": "code",
   "execution_count": 13,
   "metadata": {},
   "outputs": [],
   "source": [
    "# Define transformations (resize was arbitrary, normalize was requested from pytorch)\n",
    "transform = transforms.Compose([\n",
    "    transforms.Resize((224, 224)),\n",
    "    transforms.ToTensor(),\n",
    "    transforms.Normalize(mean=[0.485, 0.456, 0.406], std=[0.229, 0.224, 0.225])\n",
    "])\n",
    "\n",
    "# Create custom dataset\n",
    "dataset = aux.CustomImageDataset(root_dir=root_dir, file_paths=file_paths_train, classification_type=classification_type, \n",
    "                                 transform=transform, train=True, validation_split=0.25)\n",
    "\n",
    "# Create training and validation subsets using the indices calculated during dataset.__init__()\n",
    "train_subset = Subset(dataset, dataset.train_indices)\n",
    "val_subset = Subset(dataset, dataset.val_indices)\n",
    "\n",
    "# Create dataloaders for training and validation\n",
    "train_loader = DataLoader(train_subset, batch_size=batch_size)\n",
    "valid_loader = DataLoader(val_subset, batch_size=batch_size)\n",
    "\n",
    "best_val_acc = 0  # Initialize best validation accuracy\n",
    "epochs_without_improvement = 0  # Counter for epochs without improvement (early stopping)"
   ]
  },
  {
   "cell_type": "code",
   "execution_count": 14,
   "metadata": {},
   "outputs": [
    {
     "data": {
      "application/vnd.jupyter.widget-view+json": {
       "model_id": "193a32bfa6884e3d815b84d6dbc690a5",
       "version_major": 2,
       "version_minor": 0
      },
      "text/plain": [
       "  0%|          | 0/12 [00:00<?, ?it/s]"
      ]
     },
     "metadata": {},
     "output_type": "display_data"
    },
    {
     "data": {
      "application/vnd.jupyter.widget-view+json": {
       "model_id": "4e5d6863a9b74c1d88930ea463a5b5fc",
       "version_major": 2,
       "version_minor": 0
      },
      "text/plain": [
       "Currently running epoch number 1:   0%|          | 0/1502 [00:00<?, ?it/s]"
      ]
     },
     "metadata": {},
     "output_type": "display_data"
    },
    {
     "data": {
      "application/vnd.jupyter.widget-view+json": {
       "model_id": "12c31ad1b84b4de5bf3f8d486595a782",
       "version_major": 2,
       "version_minor": 0
      },
      "text/plain": [
       "  0%|          | 0/501 [00:00<?, ?it/s]"
      ]
     },
     "metadata": {},
     "output_type": "display_data"
    },
    {
     "name": "stdout",
     "output_type": "stream",
     "text": [
      "Epoch [1/12], Training Loss: 3.835925553356125, Training Accuracy: 8.175158175158176%, Validation Loss: 3.6659100978912234, Validation Accuracy: 10.564435564435565%\n"
     ]
    },
    {
     "data": {
      "application/vnd.jupyter.widget-view+json": {
       "model_id": "fa3b0229170a4dc58f7eacecf2438a18",
       "version_major": 2,
       "version_minor": 0
      },
      "text/plain": [
       "Currently running epoch number 2:   0%|          | 0/1502 [00:00<?, ?it/s]"
      ]
     },
     "metadata": {},
     "output_type": "display_data"
    },
    {
     "data": {
      "application/vnd.jupyter.widget-view+json": {
       "model_id": "dd3107cb5b7248d9b3b56e07ca695752",
       "version_major": 2,
       "version_minor": 0
      },
      "text/plain": [
       "  0%|          | 0/501 [00:00<?, ?it/s]"
      ]
     },
     "metadata": {},
     "output_type": "display_data"
    },
    {
     "name": "stdout",
     "output_type": "stream",
     "text": [
      "Epoch [2/12], Training Loss: 3.5204687356631386, Training Accuracy: 13.186813186813186%, Validation Loss: 3.4818774835316244, Validation Accuracy: 14.51048951048951%\n"
     ]
    },
    {
     "data": {
      "application/vnd.jupyter.widget-view+json": {
       "model_id": "df269bfb69244d16a002f216b28c7f57",
       "version_major": 2,
       "version_minor": 0
      },
      "text/plain": [
       "Currently running epoch number 3:   0%|          | 0/1502 [00:00<?, ?it/s]"
      ]
     },
     "metadata": {},
     "output_type": "display_data"
    },
    {
     "data": {
      "application/vnd.jupyter.widget-view+json": {
       "model_id": "0ccd5817b2cc4c55b93a1a38151ed1b8",
       "version_major": 2,
       "version_minor": 0
      },
      "text/plain": [
       "  0%|          | 0/501 [00:00<?, ?it/s]"
      ]
     },
     "metadata": {},
     "output_type": "display_data"
    },
    {
     "name": "stdout",
     "output_type": "stream",
     "text": [
      "Epoch [3/12], Training Loss: 3.18699647623118, Training Accuracy: 20.221445221445222%, Validation Loss: 3.2700206181722247, Validation Accuracy: 19.005994005994005%\n"
     ]
    },
    {
     "data": {
      "application/vnd.jupyter.widget-view+json": {
       "model_id": "9674374b6ed24c04b70617fd71cb8337",
       "version_major": 2,
       "version_minor": 0
      },
      "text/plain": [
       "Currently running epoch number 4:   0%|          | 0/1502 [00:00<?, ?it/s]"
      ]
     },
     "metadata": {},
     "output_type": "display_data"
    },
    {
     "data": {
      "application/vnd.jupyter.widget-view+json": {
       "model_id": "c0ed989f280f49e6948a8e7f7d085b29",
       "version_major": 2,
       "version_minor": 0
      },
      "text/plain": [
       "  0%|          | 0/501 [00:00<?, ?it/s]"
      ]
     },
     "metadata": {},
     "output_type": "display_data"
    },
    {
     "name": "stdout",
     "output_type": "stream",
     "text": [
      "Epoch [4/12], Training Loss: 2.7523953908292973, Training Accuracy: 31.8015318015318%, Validation Loss: 3.1947716998007007, Validation Accuracy: 21.353646353646354%\n"
     ]
    },
    {
     "data": {
      "application/vnd.jupyter.widget-view+json": {
       "model_id": "a95326f9eac3490997d1b156fe0f4716",
       "version_major": 2,
       "version_minor": 0
      },
      "text/plain": [
       "Currently running epoch number 5:   0%|          | 0/1502 [00:00<?, ?it/s]"
      ]
     },
     "metadata": {},
     "output_type": "display_data"
    },
    {
     "data": {
      "application/vnd.jupyter.widget-view+json": {
       "model_id": "e8449dc752fd404ab999f0508504ae23",
       "version_major": 2,
       "version_minor": 0
      },
      "text/plain": [
       "  0%|          | 0/501 [00:00<?, ?it/s]"
      ]
     },
     "metadata": {},
     "output_type": "display_data"
    },
    {
     "name": "stdout",
     "output_type": "stream",
     "text": [
      "Epoch [5/12], Training Loss: 2.219420105337938, Training Accuracy: 46.19547119547119%, Validation Loss: 3.210278171027254, Validation Accuracy: 22.552447552447553%\n"
     ]
    },
    {
     "data": {
      "application/vnd.jupyter.widget-view+json": {
       "model_id": "11b2e6d18b484225bc9a1344aac982ad",
       "version_major": 2,
       "version_minor": 0
      },
      "text/plain": [
       "Currently running epoch number 6:   0%|          | 0/1502 [00:00<?, ?it/s]"
      ]
     },
     "metadata": {},
     "output_type": "display_data"
    },
    {
     "data": {
      "application/vnd.jupyter.widget-view+json": {
       "model_id": "86e8fa829f4943d4addc449eeb30efbf",
       "version_major": 2,
       "version_minor": 0
      },
      "text/plain": [
       "  0%|          | 0/501 [00:00<?, ?it/s]"
      ]
     },
     "metadata": {},
     "output_type": "display_data"
    },
    {
     "name": "stdout",
     "output_type": "stream",
     "text": [
      "Epoch [6/12], Training Loss: 1.6488594985039986, Training Accuracy: 62.08791208791209%, Validation Loss: 3.182673730774078, Validation Accuracy: 24.275724275724276%\n"
     ]
    },
    {
     "data": {
      "application/vnd.jupyter.widget-view+json": {
       "model_id": "43739aca1f4045048854531706bf8a7c",
       "version_major": 2,
       "version_minor": 0
      },
      "text/plain": [
       "Currently running epoch number 7:   0%|          | 0/1502 [00:00<?, ?it/s]"
      ]
     },
     "metadata": {},
     "output_type": "display_data"
    },
    {
     "data": {
      "application/vnd.jupyter.widget-view+json": {
       "model_id": "7fcfa38ef3914de8bb59604400b76ba4",
       "version_major": 2,
       "version_minor": 0
      },
      "text/plain": [
       "  0%|          | 0/501 [00:00<?, ?it/s]"
      ]
     },
     "metadata": {},
     "output_type": "display_data"
    },
    {
     "name": "stdout",
     "output_type": "stream",
     "text": [
      "Epoch [7/12], Training Loss: 1.120097772804859, Training Accuracy: 77.11455211455211%, Validation Loss: 3.326700797100029, Validation Accuracy: 23.301698301698302%\n"
     ]
    },
    {
     "data": {
      "application/vnd.jupyter.widget-view+json": {
       "model_id": "e224cffd8cfd472cb450c469ddd1bfed",
       "version_major": 2,
       "version_minor": 0
      },
      "text/plain": [
       "Currently running epoch number 8:   0%|          | 0/1502 [00:00<?, ?it/s]"
      ]
     },
     "metadata": {},
     "output_type": "display_data"
    },
    {
     "data": {
      "application/vnd.jupyter.widget-view+json": {
       "model_id": "ea2a3ae50fd6419faed19658da3b8407",
       "version_major": 2,
       "version_minor": 0
      },
      "text/plain": [
       "  0%|          | 0/501 [00:00<?, ?it/s]"
      ]
     },
     "metadata": {},
     "output_type": "display_data"
    },
    {
     "name": "stdout",
     "output_type": "stream",
     "text": [
      "Epoch [8/12], Training Loss: 0.7573220577840005, Training Accuracy: 86.04728604728605%, Validation Loss: 3.580636631704852, Validation Accuracy: 22.42757242757243%\n"
     ]
    },
    {
     "data": {
      "application/vnd.jupyter.widget-view+json": {
       "model_id": "fcb78e67e0354a8383cb76bbbafe8466",
       "version_major": 2,
       "version_minor": 0
      },
      "text/plain": [
       "Currently running epoch number 9:   0%|          | 0/1502 [00:00<?, ?it/s]"
      ]
     },
     "metadata": {},
     "output_type": "display_data"
    },
    {
     "data": {
      "application/vnd.jupyter.widget-view+json": {
       "model_id": "35c9d2e51f724861a4887073020f6aed",
       "version_major": 2,
       "version_minor": 0
      },
      "text/plain": [
       "  0%|          | 0/501 [00:00<?, ?it/s]"
      ]
     },
     "metadata": {},
     "output_type": "display_data"
    },
    {
     "name": "stdout",
     "output_type": "stream",
     "text": [
      "Epoch [9/12], Training Loss: 0.5301625188564095, Training Accuracy: 91.38361638361638%, Validation Loss: 3.5387926751268126, Validation Accuracy: 25.34965034965035%\n"
     ]
    },
    {
     "data": {
      "application/vnd.jupyter.widget-view+json": {
       "model_id": "0618daff78f7469a9093314da63449ba",
       "version_major": 2,
       "version_minor": 0
      },
      "text/plain": [
       "Currently running epoch number 10:   0%|          | 0/1502 [00:00<?, ?it/s]"
      ]
     },
     "metadata": {},
     "output_type": "display_data"
    },
    {
     "data": {
      "application/vnd.jupyter.widget-view+json": {
       "model_id": "2ab2843eac8e44648db1b5dfb7388dc1",
       "version_major": 2,
       "version_minor": 0
      },
      "text/plain": [
       "  0%|          | 0/501 [00:00<?, ?it/s]"
      ]
     },
     "metadata": {},
     "output_type": "display_data"
    },
    {
     "name": "stdout",
     "output_type": "stream",
     "text": [
      "Epoch [10/12], Training Loss: 0.38814292878864926, Training Accuracy: 93.53979353979354%, Validation Loss: 3.663990934451897, Validation Accuracy: 25.274725274725274%\n"
     ]
    },
    {
     "data": {
      "application/vnd.jupyter.widget-view+json": {
       "model_id": "bc238ba477f34361b36fd0d800414e51",
       "version_major": 2,
       "version_minor": 0
      },
      "text/plain": [
       "Currently running epoch number 11:   0%|          | 0/1502 [00:00<?, ?it/s]"
      ]
     },
     "metadata": {},
     "output_type": "display_data"
    },
    {
     "data": {
      "application/vnd.jupyter.widget-view+json": {
       "model_id": "c3ae026d173047338a23c9dc30077890",
       "version_major": 2,
       "version_minor": 0
      },
      "text/plain": [
       "  0%|          | 0/501 [00:00<?, ?it/s]"
      ]
     },
     "metadata": {},
     "output_type": "display_data"
    },
    {
     "name": "stdout",
     "output_type": "stream",
     "text": [
      "Epoch [11/12], Training Loss: 0.3391117077747412, Training Accuracy: 93.989343989344%, Validation Loss: 3.5883193945218466, Validation Accuracy: 26.023976023976022%\n"
     ]
    },
    {
     "data": {
      "application/vnd.jupyter.widget-view+json": {
       "model_id": "3f2dd84f9bb2453683d64073d8552377",
       "version_major": 2,
       "version_minor": 0
      },
      "text/plain": [
       "Currently running epoch number 12:   0%|          | 0/1502 [00:00<?, ?it/s]"
      ]
     },
     "metadata": {},
     "output_type": "display_data"
    },
    {
     "data": {
      "application/vnd.jupyter.widget-view+json": {
       "model_id": "0bd9674913a14c8c89381a17766e2a11",
       "version_major": 2,
       "version_minor": 0
      },
      "text/plain": [
       "  0%|          | 0/501 [00:00<?, ?it/s]"
      ]
     },
     "metadata": {},
     "output_type": "display_data"
    },
    {
     "name": "stdout",
     "output_type": "stream",
     "text": [
      "Epoch [12/12], Training Loss: 0.2654783194401015, Training Accuracy: 95.42957042957043%, Validation Loss: 3.640531888978924, Validation Accuracy: 28.07192807192807%\n"
     ]
    }
   ],
   "source": [
    "\n",
    "# Training loop\n",
    "for epoch in tqdm(range(num_epochs),leave=False):\n",
    "    model.train() # Set model to training mode\n",
    "    running_loss = 0.0  # Set variables for evaluation\n",
    "    correct_train = 0\n",
    "    total_train = 0\n",
    "    i = 0\n",
    "    \n",
    "    # Loads one batch at a time\n",
    "    for images, labels in tqdm(train_loader, desc=f'Currently running epoch number {epoch+1}', leave=False):  \n",
    "        # Move tensors to the configured device\n",
    "        images = images.to(device)\n",
    "        labels = labels.to(device)\n",
    "        \n",
    "        # Forward pass\n",
    "        outputs = model(images)\n",
    "        loss = criterion(outputs, labels)\n",
    "        i += 1  # Counting batches\n",
    "        running_loss += loss.item()  # Update running loss\n",
    "\n",
    "        # Backward and optimize\n",
    "        optimizer.zero_grad()\n",
    "        loss.backward()\n",
    "        optimizer.step()\n",
    "        \n",
    "        # Calculate accuracy\n",
    "        predicted = torch.argmax(outputs.data, 1)\n",
    "        total_train += outputs.size(0)\n",
    "        correct_train += (predicted == labels).sum().item()\n",
    "\n",
    "        del images, labels, outputs\n",
    "        torch.cuda.empty_cache()\n",
    "        gc.collect()\n",
    "\n",
    "    # Validation loop, it doesn't influence training, it's just to keep track of the model overfitting or not\n",
    "    model.eval()  # Set model to evaluation mode\n",
    "    running_val_loss = 0.0  # Create variables for evaluation\n",
    "    correct_val = 0\n",
    "    total_val = 0\n",
    "\n",
    "    with torch.no_grad():   # Don't modify model during validation\n",
    "        for images, labels in tqdm(valid_loader, leave=False):\n",
    "            # Send tensors to device\n",
    "            images = images.to(device)\n",
    "            labels = labels.to(device)\n",
    "            outputs = model(images)\n",
    "            loss = criterion(outputs, labels)  # Calculate loss for validation\n",
    "            running_val_loss += loss.item()  # Update running validation loss\n",
    "\n",
    "            # Count correctly classified inputs\n",
    "            predicted = torch.argmax(outputs.data, 1)\n",
    "            total_val += labels.size(0)\n",
    "            correct_val += (predicted == labels).sum().item()\n",
    "\n",
    "            del images, labels, outputs\n",
    "\n",
    "    # Calculate validation accuracy\n",
    "    val_accuracy = 100 * correct_val / total_val\n",
    "\n",
    "    # Print training and validation stats\n",
    "    print(f'Epoch [{epoch+1}/{num_epochs}], Training Loss: {running_loss / i}, Training Accuracy: {100 * correct_train / total_train}%, '\n",
    "          f'Validation Loss: {running_val_loss / len(valid_loader)}, Validation Accuracy: {val_accuracy}%')\n",
    "\n",
    "    # Early stopping check\n",
    "    \"\"\"\n",
    "    if val_accuracy > best_val_acc:\n",
    "        best_val_acc = val_accuracy\n",
    "        epochs_without_improvement = 0  # Reset counter if there's improvement\n",
    "        # Save the best model\n",
    "        #torch.save(model.state_dict(), os.path.join(os.getcwd(), model_save_name))\n",
    "    else:\n",
    "        epochs_without_improvement += 1\n",
    "\n",
    "    # If patience is exceeded, stop training\n",
    "    if epochs_without_improvement >= patience:\n",
    "       print(f'Early stopping triggered after {epoch+1} epochs without improvement in validation accuracy.')\n",
    "    break\n",
    "    \"\"\"\n",
    "# Save the model (final model if no early stopping occurred)\n",
    "#torch.save(model.state_dict(), os.path.join(os.getcwd(), model_save_name))"
   ]
  },
  {
   "cell_type": "markdown",
   "metadata": {},
   "source": []
  }
 ],
 "metadata": {
  "kernelspec": {
   "display_name": "Python 3",
   "language": "python",
   "name": "python3"
  },
  "language_info": {
   "codemirror_mode": {
    "name": "ipython",
    "version": 3
   },
   "file_extension": ".py",
   "mimetype": "text/x-python",
   "name": "python",
   "nbconvert_exporter": "python",
   "pygments_lexer": "ipython3",
   "version": "3.12.6"
  }
 },
 "nbformat": 4,
 "nbformat_minor": 2
}
